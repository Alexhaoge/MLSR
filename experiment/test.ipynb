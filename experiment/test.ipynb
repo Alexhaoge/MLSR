{
 "cells": [
  {
   "cell_type": "code",
   "execution_count": null,
   "metadata": {},
   "outputs": [],
   "source": [
    "import numpy as np\n",
    "import pandas as pd\n",
    "from pandas import DataFrame\n",
    "\n",
    "# 读取文件\n",
    "data = pd.read_csv(r'D:\\17-19_data.csv', encoding=\"gbk\")\n",
    "data = data[data.columns[:16]] # 一共有16个特征\n",
    "\n",
    "#删除异常数据\n",
    "data=data.dropna(axis=0,subset = [\"入学前户口性质\",\"家庭人口\",\"家庭人均年收入\",\"院系认定贫困类型\"])  #删除空白值\n",
    "data=data[~data[\"家庭人均年收入\"].str.contains(\"不|见备注|困难\")]\n",
    "data=data[~data[\"入学前户口性质\"].str.contains(\"汉|无\")]\n",
    "data=data[~data[\"家庭人口\"].str.contains(\"10|11|12|13|14|15|16|20|23\")]\n",
    "data.head()\n",
    "\n",
    "##-----入学前户口性质-----##\n",
    "index = data[\"入学前户口性质\"].str.contains(\"非城镇\",na=False)\n",
    "data.loc[index, \"入学前户口性质\"] = \"农村\"\n",
    "index = data[\"入学前户口性质\"].str.contains(\"非农\",na=False)\n",
    "data.loc[index, \"入学前户口性质\"] = \"城镇\"\n",
    "index = data[\"入学前户口性质\"].str.contains(\"城|居民\",na=False)\n",
    "data.loc[index, \"入学前户口性质\"] = \"城镇\"\n",
    "index = data[\"入学前户口性质\"].str.contains(\"农\",na=False)\n",
    "data.loc[index, \"入学前户口性质\"] = \"农村\"\n",
    "\n",
    "##-----家庭人口-----##\n",
    "index = data[\"家庭人口\"].str.contains(\"1|一\",na=False)\n",
    "data.loc[index, \"家庭人口\"] = \"1\"\n",
    "index = data[\"家庭人口\"].str.contains(\"2|二\",na=False)\n",
    "data.loc[index, \"家庭人口\"] = \"2\"\n",
    "index = data[\"家庭人口\"].str.contains(\"3|三\",na=False)\n",
    "data.loc[index, \"家庭人口\"] = \"3\"\n",
    "index = data[\"家庭人口\"].str.contains(\"4|四\",na=False)\n",
    "data.loc[index, \"家庭人口\"] = \"4\"\n",
    "index = data[\"家庭人口\"].str.contains(\"5|五\",na=False)\n",
    "data.loc[index, \"家庭人口\"] = \"5\"\n",
    "index = data[\"家庭人口\"].str.contains(\"6|六\",na=False)\n",
    "data.loc[index, \"家庭人口\"] = \"6\"\n",
    "index = data[\"家庭人口\"].str.contains(\"7|七\",na=False)\n",
    "data.loc[index, \"家庭人口\"] = \"7\"\n",
    "index = data[\"家庭人口\"].str.contains(\"8|八\",na=False)\n",
    "data.loc[index, \"家庭人口\"] = \"8\"\n",
    "index = data[\"家庭人口\"].str.contains(\"9|九\",na=False)\n",
    "data.loc[index, \"家庭人口\"] = \"9\"\n",
    "\n",
    "##-----院系认定贫困类型-----##\n",
    "index = data[\"院系认定贫困类型\"].str.contains(\"特\",na=False)\n",
    "data.loc[index, \"院系认定贫困类型\"] = \"特别困难\"\n",
    "index = data[\"院系认定贫困类型\"].str.contains(\"一般\",na=False)\n",
    "data.loc[index, \"院系认定贫困类型\"] = \"一般困难\"\n",
    "\n",
    "##-----是否贷款-----##\n",
    "data[\"是否贷款\"]=data[\"是否贷款\"].fillna('-')\n",
    "index = data[\"是否贷款\"].str.contains(\"否|无|未|-|房|50000|10万|借|商业|家|父亲\",na=False)#|无|未|商业|生源地|-|房贷|50000|10万|房屋|\n",
    "data.loc[index, \"是否贷款\"] = \"否\"\n",
    "index = data[\"是否贷款\"].str.contains(\"是|√|19500|32000|助学|生源地|校园|扶贫|学|有|贷款\",na=False)\n",
    "data.loc[index, \"是否贷款\"] = \"是\"\n",
    "\n",
    "data.to_csv(\"text111.csv\",encoding=\"GBK\")"
   ]
  },
  {
   "cell_type": "code",
   "execution_count": null,
   "metadata": {},
   "outputs": [],
   "source": [
    "import pandas as pd\n",
    "data = pd.read_csv('../data/rand_select_400_avg.csv', encoding=\"gbk\")\n",
    "data.head()"
   ]
  },
  {
   "cell_type": "code",
   "execution_count": 1,
   "metadata": {},
   "outputs": [
    {
     "output_type": "stream",
     "name": "stderr",
     "text": [
      "Building prefix dict from the default dictionary ...\n",
      "Loading model from cache C:\\Users\\lenovo\\AppData\\Local\\Temp\\jieba.cache\n",
      "Loading model cost 1.304 seconds.\n",
      "Prefix dict has been built successfully.\n"
     ]
    }
   ],
   "source": [
    "sys.path.append(\"..\")\n",
    "from MLSR.data import *\n",
    "#x = DataSet.do_nation_policy(data)\n",
    "#y = DataSet.do_income(data)\n",
    "x = DataSet('../data/rand_select_400_avg.csv')\n",
    "x.generate_feature()"
   ]
  },
  {
   "cell_type": "code",
   "execution_count": 2,
   "metadata": {},
   "outputs": [
    {
     "output_type": "execute_result",
     "data": {
      "text/plain": [
       "      f0     f1     f2     f3     f4            f5     f6     f7     f8  \\\n",
       "0  False  False  False  False  False          父亲务农  False   True  False   \n",
       "1  False  False  False  False  False          农村耕地  False   True  False   \n",
       "2  False  False  False  False  False            打工  False  False  False   \n",
       "3  False  False  False  False  False            务农  False   True  False   \n",
       "4  False  False  False  False  False  母亲在外打工父亲在家务农  False   True  False   \n",
       "\n",
       "      f9  ...  f23  f24  f25 f26  f27  f28    f29  f30    f31    f32  \n",
       "0  False  ...  0.0  0.0  0.0   0    0    0  False    4  False  False  \n",
       "1  False  ...  0.0  0.0  0.0   0    0    0  False    7   True   True  \n",
       "2  False  ...  0.0  0.0  0.0   0    0    0  False    5  False   True  \n",
       "3  False  ...  0.0  0.0  0.0   0    0    0  False    5  False   True  \n",
       "4  False  ...  0.0  0.0  0.0   0    0    0   True    5  False   True  \n",
       "\n",
       "[5 rows x 33 columns]"
      ],
      "text/html": "<div>\n<style scoped>\n    .dataframe tbody tr th:only-of-type {\n        vertical-align: middle;\n    }\n\n    .dataframe tbody tr th {\n        vertical-align: top;\n    }\n\n    .dataframe thead th {\n        text-align: right;\n    }\n</style>\n<table border=\"1\" class=\"dataframe\">\n  <thead>\n    <tr style=\"text-align: right;\">\n      <th></th>\n      <th>f0</th>\n      <th>f1</th>\n      <th>f2</th>\n      <th>f3</th>\n      <th>f4</th>\n      <th>f5</th>\n      <th>f6</th>\n      <th>f7</th>\n      <th>f8</th>\n      <th>f9</th>\n      <th>...</th>\n      <th>f23</th>\n      <th>f24</th>\n      <th>f25</th>\n      <th>f26</th>\n      <th>f27</th>\n      <th>f28</th>\n      <th>f29</th>\n      <th>f30</th>\n      <th>f31</th>\n      <th>f32</th>\n    </tr>\n  </thead>\n  <tbody>\n    <tr>\n      <th>0</th>\n      <td>False</td>\n      <td>False</td>\n      <td>False</td>\n      <td>False</td>\n      <td>False</td>\n      <td>父亲务农</td>\n      <td>False</td>\n      <td>True</td>\n      <td>False</td>\n      <td>False</td>\n      <td>...</td>\n      <td>0.0</td>\n      <td>0.0</td>\n      <td>0.0</td>\n      <td>0</td>\n      <td>0</td>\n      <td>0</td>\n      <td>False</td>\n      <td>4</td>\n      <td>False</td>\n      <td>False</td>\n    </tr>\n    <tr>\n      <th>1</th>\n      <td>False</td>\n      <td>False</td>\n      <td>False</td>\n      <td>False</td>\n      <td>False</td>\n      <td>农村耕地</td>\n      <td>False</td>\n      <td>True</td>\n      <td>False</td>\n      <td>False</td>\n      <td>...</td>\n      <td>0.0</td>\n      <td>0.0</td>\n      <td>0.0</td>\n      <td>0</td>\n      <td>0</td>\n      <td>0</td>\n      <td>False</td>\n      <td>7</td>\n      <td>True</td>\n      <td>True</td>\n    </tr>\n    <tr>\n      <th>2</th>\n      <td>False</td>\n      <td>False</td>\n      <td>False</td>\n      <td>False</td>\n      <td>False</td>\n      <td>打工</td>\n      <td>False</td>\n      <td>False</td>\n      <td>False</td>\n      <td>False</td>\n      <td>...</td>\n      <td>0.0</td>\n      <td>0.0</td>\n      <td>0.0</td>\n      <td>0</td>\n      <td>0</td>\n      <td>0</td>\n      <td>False</td>\n      <td>5</td>\n      <td>False</td>\n      <td>True</td>\n    </tr>\n    <tr>\n      <th>3</th>\n      <td>False</td>\n      <td>False</td>\n      <td>False</td>\n      <td>False</td>\n      <td>False</td>\n      <td>务农</td>\n      <td>False</td>\n      <td>True</td>\n      <td>False</td>\n      <td>False</td>\n      <td>...</td>\n      <td>0.0</td>\n      <td>0.0</td>\n      <td>0.0</td>\n      <td>0</td>\n      <td>0</td>\n      <td>0</td>\n      <td>False</td>\n      <td>5</td>\n      <td>False</td>\n      <td>True</td>\n    </tr>\n    <tr>\n      <th>4</th>\n      <td>False</td>\n      <td>False</td>\n      <td>False</td>\n      <td>False</td>\n      <td>False</td>\n      <td>母亲在外打工父亲在家务农</td>\n      <td>False</td>\n      <td>True</td>\n      <td>False</td>\n      <td>False</td>\n      <td>...</td>\n      <td>0.0</td>\n      <td>0.0</td>\n      <td>0.0</td>\n      <td>0</td>\n      <td>0</td>\n      <td>0</td>\n      <td>True</td>\n      <td>5</td>\n      <td>False</td>\n      <td>True</td>\n    </tr>\n  </tbody>\n</table>\n<p>5 rows × 33 columns</p>\n</div>"
     },
     "metadata": {},
     "execution_count": 2
    }
   ],
   "source": [
    "x.strong_label"
   ]
  },
  {
   "cell_type": "code",
   "execution_count": 3,
   "metadata": {},
   "outputs": [
    {
     "output_type": "execute_result",
     "data": {
      "text/plain": [
       "      f0     f1     f2     f3     f4    f5     f6     f7     f8     f9  ...  \\\n",
       "0  False  False  False  False  False    务农  False   True  False  False  ...   \n",
       "1  False  False  False  False  False  母亲工资  False  False  False  False  ...   \n",
       "2  False  False  False  False  False    种田  False   True  False  False  ...   \n",
       "3   True  False  False  False  False    父亲  False  False  False  False  ...   \n",
       "4  False  False  False  False  False    务工  False  False  False  False  ...   \n",
       "\n",
       "   f23  f24  f25 f26   f27  f28    f29  f30    f31    f32  \n",
       "0  0.0  0.0  0.0   1  4000    0  False    2   True   True  \n",
       "1  0.0  0.0  0.0   1  2800    1  False    4  False  False  \n",
       "2  0.0  0.0  0.0   0     0    0  False    6   True   True  \n",
       "3  0.0  0.0  0.0   0     0    0   True    5  False   True  \n",
       "4  0.0  0.0  1.0   1  3800    2  False    4   True   True  \n",
       "\n",
       "[5 rows x 33 columns]"
      ],
      "text/html": "<div>\n<style scoped>\n    .dataframe tbody tr th:only-of-type {\n        vertical-align: middle;\n    }\n\n    .dataframe tbody tr th {\n        vertical-align: top;\n    }\n\n    .dataframe thead th {\n        text-align: right;\n    }\n</style>\n<table border=\"1\" class=\"dataframe\">\n  <thead>\n    <tr style=\"text-align: right;\">\n      <th></th>\n      <th>f0</th>\n      <th>f1</th>\n      <th>f2</th>\n      <th>f3</th>\n      <th>f4</th>\n      <th>f5</th>\n      <th>f6</th>\n      <th>f7</th>\n      <th>f8</th>\n      <th>f9</th>\n      <th>...</th>\n      <th>f23</th>\n      <th>f24</th>\n      <th>f25</th>\n      <th>f26</th>\n      <th>f27</th>\n      <th>f28</th>\n      <th>f29</th>\n      <th>f30</th>\n      <th>f31</th>\n      <th>f32</th>\n    </tr>\n  </thead>\n  <tbody>\n    <tr>\n      <th>0</th>\n      <td>False</td>\n      <td>False</td>\n      <td>False</td>\n      <td>False</td>\n      <td>False</td>\n      <td>务农</td>\n      <td>False</td>\n      <td>True</td>\n      <td>False</td>\n      <td>False</td>\n      <td>...</td>\n      <td>0.0</td>\n      <td>0.0</td>\n      <td>0.0</td>\n      <td>1</td>\n      <td>4000</td>\n      <td>0</td>\n      <td>False</td>\n      <td>2</td>\n      <td>True</td>\n      <td>True</td>\n    </tr>\n    <tr>\n      <th>1</th>\n      <td>False</td>\n      <td>False</td>\n      <td>False</td>\n      <td>False</td>\n      <td>False</td>\n      <td>母亲工资</td>\n      <td>False</td>\n      <td>False</td>\n      <td>False</td>\n      <td>False</td>\n      <td>...</td>\n      <td>0.0</td>\n      <td>0.0</td>\n      <td>0.0</td>\n      <td>1</td>\n      <td>2800</td>\n      <td>1</td>\n      <td>False</td>\n      <td>4</td>\n      <td>False</td>\n      <td>False</td>\n    </tr>\n    <tr>\n      <th>2</th>\n      <td>False</td>\n      <td>False</td>\n      <td>False</td>\n      <td>False</td>\n      <td>False</td>\n      <td>种田</td>\n      <td>False</td>\n      <td>True</td>\n      <td>False</td>\n      <td>False</td>\n      <td>...</td>\n      <td>0.0</td>\n      <td>0.0</td>\n      <td>0.0</td>\n      <td>0</td>\n      <td>0</td>\n      <td>0</td>\n      <td>False</td>\n      <td>6</td>\n      <td>True</td>\n      <td>True</td>\n    </tr>\n    <tr>\n      <th>3</th>\n      <td>True</td>\n      <td>False</td>\n      <td>False</td>\n      <td>False</td>\n      <td>False</td>\n      <td>父亲</td>\n      <td>False</td>\n      <td>False</td>\n      <td>False</td>\n      <td>False</td>\n      <td>...</td>\n      <td>0.0</td>\n      <td>0.0</td>\n      <td>0.0</td>\n      <td>0</td>\n      <td>0</td>\n      <td>0</td>\n      <td>True</td>\n      <td>5</td>\n      <td>False</td>\n      <td>True</td>\n    </tr>\n    <tr>\n      <th>4</th>\n      <td>False</td>\n      <td>False</td>\n      <td>False</td>\n      <td>False</td>\n      <td>False</td>\n      <td>务工</td>\n      <td>False</td>\n      <td>False</td>\n      <td>False</td>\n      <td>False</td>\n      <td>...</td>\n      <td>0.0</td>\n      <td>0.0</td>\n      <td>1.0</td>\n      <td>1</td>\n      <td>3800</td>\n      <td>2</td>\n      <td>False</td>\n      <td>4</td>\n      <td>True</td>\n      <td>True</td>\n    </tr>\n  </tbody>\n</table>\n<p>5 rows × 33 columns</p>\n</div>"
     },
     "metadata": {},
     "execution_count": 3
    }
   ],
   "source": [
    "y = DataSet('../data/not_selected_avg.csv')\n",
    "y.generate_feature()\n",
    "y.features.head()"
   ]
  },
  {
   "cell_type": "code",
   "execution_count": 5,
   "metadata": {},
   "outputs": [
    {
     "output_type": "execute_result",
     "data": {
      "text/plain": [
       "0      1\n",
       "1      0\n",
       "2      3\n",
       "3      3\n",
       "4      0\n",
       "      ..\n",
       "395    0\n",
       "396    0\n",
       "397    1\n",
       "398    3\n",
       "399    2\n",
       "Name: 专家判定等级, Length: 400, dtype: int64"
      ]
     },
     "metadata": {},
     "execution_count": 5
    }
   ],
   "source": [
    "\n",
    "x.merge(y)\n",
    "x.strong_label"
   ]
  },
  {
   "cell_type": "code",
   "execution_count": null,
   "metadata": {},
   "outputs": [],
   "source": []
  }
 ],
 "metadata": {
  "kernelspec": {
   "display_name": "Python 3",
   "language": "python",
   "name": "python3"
  },
  "language_info": {
   "codemirror_mode": {
    "name": "ipython",
    "version": 3
   },
   "file_extension": ".py",
   "mimetype": "text/x-python",
   "name": "python",
   "nbconvert_exporter": "python",
   "pygments_lexer": "ipython3",
   "version": "3.7.4-final"
  }
 },
 "nbformat": 4,
 "nbformat_minor": 4
}