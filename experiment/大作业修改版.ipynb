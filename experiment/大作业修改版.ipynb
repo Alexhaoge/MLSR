{
 "cells": [
  {
   "cell_type": "code",
   "execution_count": 46,
   "metadata": {},
   "outputs": [],
   "source": [
    "import numpy as np\n",
    "import pandas as pd\n",
    "from pandas import DataFrame\n",
    "\n",
    "# 读取文件\n",
    "data = pd.read_csv(r'D:\\17-19_data.csv', encoding=\"gbk\")\n",
    "data = data[data.columns[:16]] # 一共有16个特征\n",
    "\n",
    "#删除异常数据\n",
    "data=data.dropna(axis=0,subset = [\"入学前户口性质\",\"家庭人口\",\"家庭人均年收入\",\"院系认定贫困类型\"])  #删除空白值\n",
    "data=data[~data[\"家庭人均年收入\"].str.contains(\"不|见备注|困难\")]\n",
    "data=data[~data[\"入学前户口性质\"].str.contains(\"汉|无\")]\n",
    "data=data[~data[\"家庭人口\"].str.contains(\"10|11|12|13|14|15|16|20|23\")]\n",
    "data.head()\n",
    "\n",
    "##-----入学前户口性质-----##\n",
    "index = data[\"入学前户口性质\"].str.contains(\"非城镇\",na=False)\n",
    "data.loc[index, \"入学前户口性质\"] = \"农村\"\n",
    "index = data[\"入学前户口性质\"].str.contains(\"非农\",na=False)\n",
    "data.loc[index, \"入学前户口性质\"] = \"城镇\"\n",
    "index = data[\"入学前户口性质\"].str.contains(\"城|居民\",na=False)\n",
    "data.loc[index, \"入学前户口性质\"] = \"城镇\"\n",
    "index = data[\"入学前户口性质\"].str.contains(\"农\",na=False)\n",
    "data.loc[index, \"入学前户口性质\"] = \"农村\"\n",
    "\n",
    "##-----家庭人口-----##\n",
    "index = data[\"家庭人口\"].str.contains(\"1|一\",na=False)\n",
    "data.loc[index, \"家庭人口\"] = \"1\"\n",
    "index = data[\"家庭人口\"].str.contains(\"2|二\",na=False)\n",
    "data.loc[index, \"家庭人口\"] = \"2\"\n",
    "index = data[\"家庭人口\"].str.contains(\"3|三\",na=False)\n",
    "data.loc[index, \"家庭人口\"] = \"3\"\n",
    "index = data[\"家庭人口\"].str.contains(\"4|四\",na=False)\n",
    "data.loc[index, \"家庭人口\"] = \"4\"\n",
    "index = data[\"家庭人口\"].str.contains(\"5|五\",na=False)\n",
    "data.loc[index, \"家庭人口\"] = \"5\"\n",
    "index = data[\"家庭人口\"].str.contains(\"6|六\",na=False)\n",
    "data.loc[index, \"家庭人口\"] = \"6\"\n",
    "index = data[\"家庭人口\"].str.contains(\"7|七\",na=False)\n",
    "data.loc[index, \"家庭人口\"] = \"7\"\n",
    "index = data[\"家庭人口\"].str.contains(\"8|八\",na=False)\n",
    "data.loc[index, \"家庭人口\"] = \"8\"\n",
    "index = data[\"家庭人口\"].str.contains(\"9|九\",na=False)\n",
    "data.loc[index, \"家庭人口\"] = \"9\"\n",
    "\n",
    "##-----院系认定贫困类型-----##\n",
    "index = data[\"院系认定贫困类型\"].str.contains(\"特\",na=False)\n",
    "data.loc[index, \"院系认定贫困类型\"] = \"特别困难\"\n",
    "index = data[\"院系认定贫困类型\"].str.contains(\"一般\",na=False)\n",
    "data.loc[index, \"院系认定贫困类型\"] = \"一般困难\"\n",
    "\n",
    "##-----是否贷款-----##\n",
    "data[\"是否贷款\"]=data[\"是否贷款\"].fillna('-')\n",
    "index = data[\"是否贷款\"].str.contains(\"否|无|未|-|房|50000|10万|借|商业|家|父亲\",na=False)#|无|未|商业|生源地|-|房贷|50000|10万|房屋|\n",
    "data.loc[index, \"是否贷款\"] = \"否\"\n",
    "index = data[\"是否贷款\"].str.contains(\"是|√|19500|32000|助学|生源地|校园|扶贫|学|有|贷款\",na=False)\n",
    "data.loc[index, \"是否贷款\"] = \"是\"\n",
    "\n",
    "data.to_csv(\"text111.csv\",encoding=\"GBK\")"
   ]
  },
  {
   "cell_type": "code",
   "execution_count": null,
   "metadata": {},
   "outputs": [],
   "source": []
  }
 ],
 "metadata": {
  "kernelspec": {
   "display_name": "Python 3",
   "language": "python",
   "name": "python3"
  },
  "language_info": {
   "codemirror_mode": {
    "name": "ipython",
    "version": 3
   },
   "file_extension": ".py",
   "mimetype": "text/x-python",
   "name": "python",
   "nbconvert_exporter": "python",
   "pygments_lexer": "ipython3",
   "version": "3.8.5"
  }
 },
 "nbformat": 4,
 "nbformat_minor": 4
}
